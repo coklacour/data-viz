{
 "cells": [
  {
   "cell_type": "markdown",
   "metadata": {},
   "source": [
    "## Packages"
   ]
  },
  {
   "cell_type": "code",
   "execution_count": null,
   "metadata": {},
   "outputs": [],
   "source": [
    "import sys\n",
    "import os\n",
    "import pandas as pd\n",
    "import numpy as np\n",
    "\n",
    "import folium\n",
    "from folium import plugins"
   ]
  },
  {
   "cell_type": "markdown",
   "metadata": {},
   "source": [
    "## Import"
   ]
  },
  {
   "cell_type": "code",
   "execution_count": null,
   "metadata": {},
   "outputs": [],
   "source": [
    "# Nom du dataframe contenant les codes postaux à représenter\n",
    "INPUT_PATH = os.path.dirname(os.path.abspath(''))+'/datas/raw'\n",
    "OUTPUT_PATH = os.path.dirname(os.path.abspath(''))+'/datas/out'"
   ]
  },
  {
   "cell_type": "markdown",
   "metadata": {},
   "source": [
    "csv"
   ]
  },
  {
   "cell_type": "code",
   "execution_count": null,
   "metadata": {},
   "outputs": [],
   "source": [
    "cp = pd.read_csv(INPUT_PATH+\"/list_cp.csv\", sep=';')"
   ]
  },
  {
   "cell_type": "markdown",
   "metadata": {},
   "source": [
    "## Visualisation"
   ]
  },
  {
   "cell_type": "code",
   "execution_count": null,
   "metadata": {},
   "outputs": [],
   "source": [
    "# Create a map centered on a specific location\n",
    "m = folium.Map(location=[45.3990409, -72.721834],   # center of the folium map\n",
    "               tiles='cartodbpositron',             # type of map\n",
    "               min_zoom=7, max_zoom=20,             # zoom range\n",
    "               zoom_start=7)                        # initial zoom\n",
    "\n",
    "# Create a MarkerCluster\n",
    "marker_cluster = plugins.MarkerCluster().add_to(m)\n",
    "\n",
    "# Add the postcodes to the map\n",
    "for index, row in cp.iterrows():\n",
    "\n",
    "    # Definie number person\n",
    "    n = res.loc[res['code_postal'] == row['code_postal'], 'n'].iloc[0]\n",
    "\n",
    "    popup = \"Nombre de personnes : {}<br>Code postal : {}\".format(n, row['code_postal'])\n",
    "\n",
    "    # Create a custom circle marker with the number displayed as label\n",
    "    folium.CircleMarker(\n",
    "        location=[row['latitude'], row['longitude']],\n",
    "        radius=5,\n",
    "        tooltip=popup,\n",
    "        color=None,\n",
    "        fill_color='Blue',\n",
    "        fill_opacity=0.6\n",
    "    ).add_to(marker_cluster)\n",
    "\n",
    "# Add legend\n",
    "legend_html = \"\"\"\n",
    "     <div style=\"position: fixed; \n",
    "                 top: 10px; right: 10px; width: 150px; height: 100px; \n",
    "                 border:2px solid grey; z-index:9999; font-size:14px;\n",
    "                 background-color:white; opacity: 0.8;\n",
    "                 \">\n",
    "     <p style=\"margin:10px;\"></p>\n",
    "     <p style=\"margin:10px;\"><i class=\"fa fa-circle\" style=\"font-size:10px;color:blue;\"></i> Codes postaux</p>\n",
    "      </div>\n",
    "     \"\"\"\n",
    "\n",
    "m.get_root().html.add_child(folium.Element(legend_html))\n",
    "\n",
    "m"
   ]
  },
  {
   "cell_type": "code",
   "execution_count": null,
   "metadata": {},
   "outputs": [],
   "source": [
    "html_map = m._repr_html_()\n",
    "with open(OUTPUT_PATH+\"/nb_pers_per_cp.html\", \"w\") as file:\n",
    "    file.write(html_map)"
   ]
  }
 ],
 "metadata": {
  "kernelspec": {
   "display_name": "data-viz-GHTDML4j-py3.8",
   "language": "python",
   "name": "python3"
  },
  "language_info": {
   "codemirror_mode": {
    "name": "ipython",
    "version": 3
   },
   "file_extension": ".py",
   "mimetype": "text/x-python",
   "name": "python",
   "nbconvert_exporter": "python",
   "pygments_lexer": "ipython3",
   "version": "3.11.7"
  }
 },
 "nbformat": 4,
 "nbformat_minor": 2
}
